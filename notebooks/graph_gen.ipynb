{
 "cells": [
  {
   "cell_type": "markdown",
   "metadata": {},
   "source": [
    "## Example of converting maps of https://movingai.com/benchmarks/ to YAML one"
   ]
  },
  {
   "cell_type": "code",
   "execution_count": 1,
   "metadata": {},
   "outputs": [],
   "source": [
    "import re\n",
    "import os\n",
    "import yaml"
   ]
  },
  {
   "cell_type": "code",
   "execution_count": 2,
   "metadata": {},
   "outputs": [],
   "source": [
    "def create_yaml_map_file(map_file, output_file, x_start, y_start, grid_size=50):\n",
    "    \"\"\"grid map -> yaml map\"\"\"\n",
    "    r_map = re.compile(r\"map\")\n",
    "    r_width = re.compile(r\"width\\s(\\d+)\")\n",
    "    r_height = re.compile(r\"height\\s(\\d+)\")\n",
    "    width = 0\n",
    "    height = 0\n",
    "\n",
    "    y = 0\n",
    "    yaml_dict = {}\n",
    "    node_exists = []\n",
    "    \n",
    "    flg_map = False\n",
    "    with open(map_file, \"r\") as f:\n",
    "        for row in f:\n",
    "            if flg_map:\n",
    "                for x, s in enumerate(row.strip()):\n",
    "                    node_exists.append(s == '.')\n",
    "                    if s != '.': continue\n",
    "                    id = str(y * width + x)\n",
    "                    yaml_dict[id] = {}\n",
    "                    yaml_dict[id]['pos'] = {\n",
    "                        'x': x * grid_size + x_start,\n",
    "                        'y': y * grid_size + y_start\n",
    "                    }\n",
    "                    yaml_dict[id]['neigh'] = []\n",
    "                y += 1\n",
    "                continue\n",
    "            m = re.match(r_width, row)\n",
    "            if m:\n",
    "                width = int(m.group(1))\n",
    "                continue\n",
    "            m = re.match(r_height, row)\n",
    "            if m:\n",
    "                height = int(m.group(1))\n",
    "                continue\n",
    "            flg_map = bool(re.match(r_map, row))\n",
    "    \n",
    "    # create neighbors\n",
    "    for node_id in yaml_dict.keys():\n",
    "        id = int(node_id)\n",
    "        x = id % width\n",
    "        y = id // width\n",
    "        # left\n",
    "        if x > 0 and node_exists[y*width+x-1]:\n",
    "            yaml_dict[node_id]['neigh'].append(str(y*width+x-1))\n",
    "        # right\n",
    "        if x < width - 1 and node_exists[y*width+x+1]:\n",
    "            yaml_dict[node_id]['neigh'].append(str(y*width+x+1))\n",
    "        # up\n",
    "        if y > 0 and node_exists[(y-1)*width+x]:\n",
    "            yaml_dict[node_id]['neigh'].append(str((y-1)*width+x))\n",
    "        # down\n",
    "        if y < height - 1 and node_exists[(y+1)*width+x]:\n",
    "            yaml_dict[node_id]['neigh'].append(str((y+1)*width+x))\n",
    "\n",
    "    with open(output_file, \"w\") as f:\n",
    "        yaml.dump(yaml_dict, f)"
   ]
  },
  {
   "cell_type": "code",
   "execution_count": null,
   "metadata": {},
   "outputs": [],
   "source": [
    "map_file = \"xxxxxxxx.map\"\n",
    "output_file = map_file.split(\"/\")[-1].replace(\".map\", \".yaml\")\n",
    "create_yaml_map_file(map_file, output_file, x_start=660, y_start=480, grid_size=67)"
   ]
  }
 ],
 "metadata": {
  "kernelspec": {
   "display_name": "Python 3",
   "language": "python",
   "name": "python3"
  },
  "language_info": {
   "codemirror_mode": {
    "name": "ipython",
    "version": 3
   },
   "file_extension": ".py",
   "mimetype": "text/x-python",
   "name": "python",
   "nbconvert_exporter": "python",
   "pygments_lexer": "ipython3",
   "version": "3.7.2"
  }
 },
 "nbformat": 4,
 "nbformat_minor": 2
}
